{
 "cells": [
  {
   "cell_type": "code",
   "execution_count": 1,
   "metadata": {
    "collapsed": false,
    "scrolled": true,
    "slideshow": {
     "slide_type": "skip"
    }
   },
   "outputs": [
    {
     "data": {
      "text/html": [
       "<!-- enlarge the font size to suit slide show -->\n",
       "<style>\n",
       "    div.output_result {\n",
       "    font-size:150%;\n",
       "    line-height:150%;\n",
       "    }\n",
       "    \n",
       "    div.output_stdout { \n",
       "    font-size:150%;\n",
       "    line-height:150%;\n",
       "    }\n",
       "\n",
       "    div.prompt { /* hidden by the js block at the end */\n",
       "    font-size:100%;\n",
       "    line-height:100%;\n",
       "    }\n",
       "\n",
       "    div.CodeMirror { /* Code cell */\n",
       "    font-size:150%;\n",
       "    line-height:150%;\n",
       "    }\n",
       "    \n",
       "    div.text_cell_render { /* Markdown cell */\n",
       "    font-family: 'Times New Roman';\n",
       "    font-size:150%;\n",
       "    line-height:150%;\n",
       "    }\n",
       "</style>\n",
       "\n",
       "<!-- hide elements on the left to center the slides -->\n",
       "<script>\n",
       "    $(document).ready(function(){\n",
       "        $('div.prompt').hide();\n",
       "        $('div.back-to-top').hide();\n",
       "        $('nav#menubar').hide();\n",
       "        $('.breadcrumb').hide();\n",
       "        $('.hidden-print').hide();\n",
       "    });\n",
       "</script>"
      ],
      "text/plain": [
       "<IPython.core.display.HTML object>"
      ]
     },
     "execution_count": 1,
     "metadata": {},
     "output_type": "execute_result"
    }
   ],
   "source": [
    "from IPython.core.display import HTML\n",
    "HTML(filename='../slides.html')"
   ]
  },
  {
   "cell_type": "markdown",
   "metadata": {
    "slideshow": {
     "slide_type": "slide"
    }
   },
   "source": [
    "<br><br>\n",
    "# <center>Introduction to Model Selection Methods </center>\n",
    "<br><br>\n",
    "<center> Zhangyi Hu </center>\n",
    "<center> Oct. 16, 2016</center>"
   ]
  },
  {
   "cell_type": "markdown",
   "metadata": {
    "collapsed": true,
    "nbpresent": {
     "id": "cd6f0a2a-2288-4cf2-a060-7f3e818a3a66"
    },
    "slideshow": {
     "slide_type": "subslide"
    }
   },
   "source": [
    "# <center> Contents </center>\n",
    "\n",
    "- Motivation of model selection\n",
    "- Types of model selection criteria\n",
    "    - In sample test error (Mallow's Cp)\n",
    "    - Out of sample test error (CV, Bootstrap)\n",
    "    - Information criterion (AIC)\n",
    "    - Bayesian criterion (BIC)"
   ]
  },
  {
   "cell_type": "markdown",
   "metadata": {
    "slideshow": {
     "slide_type": "fragment"
    }
   },
   "source": [
    "**adfadsf**\n",
    "\n",
    "check check\n"
   ]
  }
 ],
 "metadata": {
  "anaconda-cloud": {},
  "celltoolbar": "Slideshow",
  "kernelspec": {
   "display_name": "Python [conda env:ml]",
   "language": "python",
   "name": "conda-env-ml-py"
  },
  "language_info": {
   "codemirror_mode": {
    "name": "ipython",
    "version": 3
   },
   "file_extension": ".py",
   "mimetype": "text/x-python",
   "name": "python",
   "nbconvert_exporter": "python",
   "pygments_lexer": "ipython3",
   "version": "3.5.2"
  },
  "nbpresent": {
   "slides": {
    "05a8dbeb-d54c-4e49-aafc-68b7e45719fd": {
     "id": "05a8dbeb-d54c-4e49-aafc-68b7e45719fd",
     "prev": "b9c9fcc5-51b0-4da4-8416-f11c87a438c5",
     "regions": {
      "746ce7f4-633e-40ed-9961-559d5ab3bd47": {
       "attrs": {
        "height": 0.8,
        "width": 0.8,
        "x": 0.1,
        "y": 0.1
       },
       "content": {
        "cell": "cd6f0a2a-2288-4cf2-a060-7f3e818a3a66",
        "part": "whole"
       },
       "id": "746ce7f4-633e-40ed-9961-559d5ab3bd47"
      }
     }
    },
    "2388de70-ea9e-414d-b2cc-190a1e7b207a": {
     "id": "2388de70-ea9e-414d-b2cc-190a1e7b207a",
     "prev": "b0c6975e-4388-4e12-b61c-8d3bcee65fed",
     "regions": {
      "bef4757c-eb56-4cf3-a9c9-c05105c9c739": {
       "attrs": {
        "height": 0.8,
        "width": 0.8,
        "x": 0.1,
        "y": 0.1
       },
       "content": {
        "cell": "ef9df2b8-dd9c-49ba-b489-f7c0cef59906",
        "part": "whole"
       },
       "id": "bef4757c-eb56-4cf3-a9c9-c05105c9c739"
      }
     }
    },
    "43fc8132-b51d-4250-ab14-f1a5d2d5c36c": {
     "id": "43fc8132-b51d-4250-ab14-f1a5d2d5c36c",
     "prev": "2388de70-ea9e-414d-b2cc-190a1e7b207a",
     "regions": {
      "20f99b9a-644f-48ee-993c-8db67a607b67": {
       "attrs": {
        "height": 0.8,
        "width": 0.8,
        "x": 0.1,
        "y": 0.1
       },
       "content": {
        "cell": "cd6f0a2a-2288-4cf2-a060-7f3e818a3a66",
        "part": "whole"
       },
       "id": "20f99b9a-644f-48ee-993c-8db67a607b67"
      }
     }
    },
    "4bbf284f-80a5-40b7-b5fd-bcaec92e3afb": {
     "id": "4bbf284f-80a5-40b7-b5fd-bcaec92e3afb",
     "prev": "50eef625-1642-40a3-86a6-910695eb4410",
     "regions": {
      "3ef03aea-6e04-40a6-93ce-8817e73ac289": {
       "attrs": {
        "height": 0.8,
        "width": 0.8,
        "x": 0.1,
        "y": 0.1
       },
       "content": {
        "cell": "cd6f0a2a-2288-4cf2-a060-7f3e818a3a66",
        "part": "whole"
       },
       "id": "3ef03aea-6e04-40a6-93ce-8817e73ac289"
      }
     }
    },
    "50eef625-1642-40a3-86a6-910695eb4410": {
     "id": "50eef625-1642-40a3-86a6-910695eb4410",
     "prev": "43fc8132-b51d-4250-ab14-f1a5d2d5c36c",
     "regions": {
      "b434ef4e-3f8c-4d4e-a275-5c0c2d398017": {
       "attrs": {
        "height": 0.8,
        "width": 0.8,
        "x": 0.1,
        "y": 0.1
       },
       "content": {
        "cell": "cd6f0a2a-2288-4cf2-a060-7f3e818a3a66",
        "part": "whole"
       },
       "id": "b434ef4e-3f8c-4d4e-a275-5c0c2d398017"
      }
     }
    },
    "57fb394f-5e64-48e7-92a5-3208563cf1c6": {
     "id": "57fb394f-5e64-48e7-92a5-3208563cf1c6",
     "prev": "6c97ab4a-63cf-4509-9b70-5742e5df8d3b",
     "regions": {
      "3a6522b3-be6b-4d37-b920-fc5f68c0db11": {
       "attrs": {
        "height": 0.8,
        "width": 0.8,
        "x": 0.1,
        "y": 0.1
       },
       "content": {
        "cell": "cd6f0a2a-2288-4cf2-a060-7f3e818a3a66",
        "part": "whole"
       },
       "id": "3a6522b3-be6b-4d37-b920-fc5f68c0db11"
      }
     }
    },
    "6c97ab4a-63cf-4509-9b70-5742e5df8d3b": {
     "id": "6c97ab4a-63cf-4509-9b70-5742e5df8d3b",
     "prev": "4bbf284f-80a5-40b7-b5fd-bcaec92e3afb",
     "regions": {
      "cb9d2e9a-a5c8-4abb-b62f-624acaad7b75": {
       "attrs": {
        "height": 0.8,
        "width": 0.8,
        "x": 0.1,
        "y": 0.1
       },
       "content": {
        "cell": "cd6f0a2a-2288-4cf2-a060-7f3e818a3a66",
        "part": "whole"
       },
       "id": "cb9d2e9a-a5c8-4abb-b62f-624acaad7b75"
      }
     }
    },
    "b0c6975e-4388-4e12-b61c-8d3bcee65fed": {
     "id": "b0c6975e-4388-4e12-b61c-8d3bcee65fed",
     "prev": "f9c1903a-c098-48bf-a8c7-b324a34d9af4",
     "regions": {
      "f1ebc62d-e674-47d7-9f1b-b40dab0fab4a": {
       "attrs": {
        "height": 0.8,
        "width": 0.8,
        "x": 0.1,
        "y": 0.1
       },
       "content": {
        "cell": "3e13915c-3e50-4d97-92af-dc493d409193",
        "part": "whole"
       },
       "id": "f1ebc62d-e674-47d7-9f1b-b40dab0fab4a"
      }
     }
    },
    "b9c9fcc5-51b0-4da4-8416-f11c87a438c5": {
     "id": "b9c9fcc5-51b0-4da4-8416-f11c87a438c5",
     "prev": "57fb394f-5e64-48e7-92a5-3208563cf1c6",
     "regions": {
      "f0317884-d843-42fb-bb7e-c2b96698812a": {
       "attrs": {
        "height": 0.8,
        "width": 0.8,
        "x": 0.1,
        "y": 0.1
       },
       "content": {
        "cell": "cd6f0a2a-2288-4cf2-a060-7f3e818a3a66",
        "part": "whole"
       },
       "id": "f0317884-d843-42fb-bb7e-c2b96698812a"
      }
     }
    },
    "f9c1903a-c098-48bf-a8c7-b324a34d9af4": {
     "id": "f9c1903a-c098-48bf-a8c7-b324a34d9af4",
     "prev": null,
     "regions": {
      "5a039c08-01d5-4a10-b2ed-04bb7679890f": {
       "attrs": {
        "height": 0.8,
        "width": 0.8,
        "x": 0.1,
        "y": 0.1
       },
       "content": {
        "cell": "f4e8d878-6137-4252-898b-dbfa915dec9b",
        "part": "whole"
       },
       "id": "5a039c08-01d5-4a10-b2ed-04bb7679890f"
      }
     }
    }
   },
   "themes": {
    "default": "03b5650f-0d59-4991-a7b0-447a9541a40c",
    "theme": {}
   }
  }
 },
 "nbformat": 4,
 "nbformat_minor": 1
}
