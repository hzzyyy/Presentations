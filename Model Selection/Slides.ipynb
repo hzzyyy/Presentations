{
 "cells": [
  {
   "cell_type": "markdown",
   "metadata": {
    "nbpresent": {
     "id": "f4e8d878-6137-4252-898b-dbfa915dec9b"
    }
   },
   "source": [
    "## <center>Introduction to Model Selection Methods </center>\n",
    "\n",
    "\n",
    "\n",
    "\n",
    "<center> Zhangyi Hu </center>\n",
    "<center> Oct. 16, 2016</center>"
   ]
  },
  {
   "cell_type": "markdown",
   "metadata": {
    "collapsed": true,
    "nbpresent": {
     "id": "ef9df2b8-dd9c-49ba-b489-f7c0cef59906"
    }
   },
   "source": [
    "## <center> Contents </center>\n",
    "- Motivation of model selection\n",
    "- Types of model selection criteria\n",
    "    - In sample test error\n",
    "    - Out of sample test error\n",
    "    - Information criterion\n",
    "    - Bayesian criterion"
   ]
  },
  {
   "cell_type": "markdown",
   "metadata": {
    "collapsed": true,
    "nbpresent": {
     "id": "cd6f0a2a-2288-4cf2-a060-7f3e818a3a66"
    }
   },
   "source": [
    "## <center> Contents </center>\n",
    "- Motivation of model selection\n",
    "- Types of model selection criteria\n",
    "    - In sample test error\n",
    "    - Out of sample test error\n",
    "    - Information criterion\n",
    "    - Bayesian criterion"
   ]
  },
  {
   "cell_type": "markdown",
   "metadata": {
    "collapsed": true,
    "nbpresent": {
     "id": "cd6f0a2a-2288-4cf2-a060-7f3e818a3a66"
    }
   },
   "source": [
    "## <center> Contents </center>\n",
    "- Motivation of model selection\n",
    "- Types of model selection criteria\n",
    "    - In sample test error\n",
    "    - Out of sample test error\n",
    "    - Information criterion\n",
    "    - Bayesian criterion"
   ]
  },
  {
   "cell_type": "markdown",
   "metadata": {
    "collapsed": true,
    "nbpresent": {
     "id": "cd6f0a2a-2288-4cf2-a060-7f3e818a3a66"
    }
   },
   "source": [
    "## <center> Contents </center>\n",
    "- Motivation of model selection\n",
    "- Types of model selection criteria\n",
    "    - In sample test error\n",
    "    - Out of sample test error\n",
    "    - Information criterion\n",
    "    - Bayesian criterion"
   ]
  },
  {
   "cell_type": "markdown",
   "metadata": {
    "collapsed": true,
    "nbpresent": {
     "id": "cd6f0a2a-2288-4cf2-a060-7f3e818a3a66"
    }
   },
   "source": [
    "## <center> Contents </center>\n",
    "- Motivation of model selection\n",
    "- Types of model selection criteria\n",
    "    - In sample test error\n",
    "    - Out of sample test error\n",
    "    - Information criterion\n",
    "    - Bayesian criterion"
   ]
  },
  {
   "cell_type": "markdown",
   "metadata": {
    "collapsed": true,
    "nbpresent": {
     "id": "cd6f0a2a-2288-4cf2-a060-7f3e818a3a66"
    }
   },
   "source": [
    "## <center> Contents </center>\n",
    "- Motivation of model selection\n",
    "- Types of model selection criteria\n",
    "    - In sample test error\n",
    "    - Out of sample test error\n",
    "    - Information criterion\n",
    "    - Bayesian criterion"
   ]
  },
  {
   "cell_type": "markdown",
   "metadata": {
    "collapsed": true,
    "nbpresent": {
     "id": "cd6f0a2a-2288-4cf2-a060-7f3e818a3a66"
    }
   },
   "source": [
    "## <center> Contents </center>\n",
    "- Motivation of model selection\n",
    "- Types of model selection criteria\n",
    "    - In sample test error\n",
    "    - Out of sample test error\n",
    "    - Information criterion\n",
    "    - Bayesian criterion"
   ]
  },
  {
   "cell_type": "markdown",
   "metadata": {
    "collapsed": true,
    "nbpresent": {
     "id": "cd6f0a2a-2288-4cf2-a060-7f3e818a3a66"
    }
   },
   "source": [
    "## <center> Contents </center>\n",
    "- Motivation of model selection\n",
    "- Types of model selection criteria\n",
    "    - In sample test error\n",
    "    - Out of sample test error\n",
    "    - Information criterion\n",
    "    - Bayesian criterion"
   ]
  }
 ],
 "metadata": {
  "anaconda-cloud": {},
  "kernelspec": {
   "display_name": "Python [conda env:ml]",
   "language": "python",
   "name": "conda-env-ml-py"
  },
  "language_info": {
   "codemirror_mode": {
    "name": "ipython",
    "version": 3
   },
   "file_extension": ".py",
   "mimetype": "text/x-python",
   "name": "python",
   "nbconvert_exporter": "python",
   "pygments_lexer": "ipython3",
   "version": "3.5.2"
  },
  "nbpresent": {
   "slides": {
    "09683fe1-4cbf-4da9-a4b0-7f4ce957ae4a": {
     "id": "09683fe1-4cbf-4da9-a4b0-7f4ce957ae4a",
     "prev": "9bdf720f-fc4b-44ba-a7e6-078a4e869950",
     "regions": {
      "5c4d6706-1d65-4fe0-91c2-2672a9f76a9e": {
       "attrs": {
        "height": 0.8,
        "width": 0.8,
        "x": 0.1,
        "y": 0.1
       },
       "content": {
        "cell": "cd6f0a2a-2288-4cf2-a060-7f3e818a3a66",
        "part": "whole"
       },
       "id": "5c4d6706-1d65-4fe0-91c2-2672a9f76a9e"
      }
     }
    },
    "2c2f8582-c7a3-4ac0-bb51-a93bb7585c27": {
     "id": "2c2f8582-c7a3-4ac0-bb51-a93bb7585c27",
     "prev": "ffe93c20-b80b-412f-b5c6-dc82b9302f5c",
     "regions": {
      "73a23108-aeaf-4c72-8716-c24c4d33f3c9": {
       "attrs": {
        "height": 0.8,
        "width": 0.8,
        "x": 0.1,
        "y": 0.1
       },
       "content": {
        "cell": "ef9df2b8-dd9c-49ba-b489-f7c0cef59906",
        "part": "whole"
       },
       "id": "73a23108-aeaf-4c72-8716-c24c4d33f3c9"
      }
     }
    },
    "52a35079-6d2e-48d3-9a6b-bf9ce2b1c9e5": {
     "id": "52a35079-6d2e-48d3-9a6b-bf9ce2b1c9e5",
     "prev": "7cd49a44-ba74-413a-9f20-a0ad4ff1899a",
     "regions": {
      "94641ee9-c998-4f6d-9b15-1abff85d2e2b": {
       "attrs": {
        "height": 0.8,
        "width": 0.8,
        "x": 0.1,
        "y": 0.1
       },
       "content": {
        "cell": "cd6f0a2a-2288-4cf2-a060-7f3e818a3a66",
        "part": "whole"
       },
       "id": "94641ee9-c998-4f6d-9b15-1abff85d2e2b"
      }
     }
    },
    "6c68a1be-a107-46f6-86b4-3d0a694cceff": {
     "id": "6c68a1be-a107-46f6-86b4-3d0a694cceff",
     "prev": "bce52870-d476-442f-b5fe-6801a5ee8cfc",
     "regions": {
      "32e87ed8-d3b6-41c5-998a-9a6f51cd60fd": {
       "attrs": {
        "height": 0.8,
        "width": 0.8,
        "x": 0.1,
        "y": 0.1
       },
       "content": {
        "cell": "cd6f0a2a-2288-4cf2-a060-7f3e818a3a66",
        "part": "whole"
       },
       "id": "32e87ed8-d3b6-41c5-998a-9a6f51cd60fd"
      }
     }
    },
    "7cd49a44-ba74-413a-9f20-a0ad4ff1899a": {
     "id": "7cd49a44-ba74-413a-9f20-a0ad4ff1899a",
     "prev": "09683fe1-4cbf-4da9-a4b0-7f4ce957ae4a",
     "regions": {
      "e5ea695a-2297-43cb-bcee-fac4d542ef92": {
       "attrs": {
        "height": 0.8,
        "width": 0.8,
        "x": 0.1,
        "y": 0.1
       },
       "content": {
        "cell": "cd6f0a2a-2288-4cf2-a060-7f3e818a3a66",
        "part": "whole"
       },
       "id": "e5ea695a-2297-43cb-bcee-fac4d542ef92"
      }
     }
    },
    "96a50a17-37d5-4323-ae20-032446ade373": {
     "id": "96a50a17-37d5-4323-ae20-032446ade373",
     "prev": "52a35079-6d2e-48d3-9a6b-bf9ce2b1c9e5",
     "regions": {
      "d20a3770-2945-4520-ac40-5a5b7840582f": {
       "attrs": {
        "height": 0.8,
        "width": 0.8,
        "x": 0.1,
        "y": 0.1
       },
       "content": {
        "cell": "cd6f0a2a-2288-4cf2-a060-7f3e818a3a66",
        "part": "whole"
       },
       "id": "d20a3770-2945-4520-ac40-5a5b7840582f"
      }
     }
    },
    "9bdf720f-fc4b-44ba-a7e6-078a4e869950": {
     "id": "9bdf720f-fc4b-44ba-a7e6-078a4e869950",
     "prev": "6c68a1be-a107-46f6-86b4-3d0a694cceff",
     "regions": {
      "227e586a-fe88-4dcf-acb0-05291b7de72c": {
       "attrs": {
        "height": 0.8,
        "width": 0.8,
        "x": 0.1,
        "y": 0.1
       },
       "content": {
        "cell": "cd6f0a2a-2288-4cf2-a060-7f3e818a3a66",
        "part": "whole"
       },
       "id": "227e586a-fe88-4dcf-acb0-05291b7de72c"
      }
     }
    },
    "bce52870-d476-442f-b5fe-6801a5ee8cfc": {
     "id": "bce52870-d476-442f-b5fe-6801a5ee8cfc",
     "prev": "2c2f8582-c7a3-4ac0-bb51-a93bb7585c27",
     "regions": {
      "90565277-cd9d-4473-8809-025904e4cd9c": {
       "attrs": {
        "height": 0.8,
        "width": 0.8,
        "x": 0.1,
        "y": 0.1
       },
       "content": {
        "cell": "cd6f0a2a-2288-4cf2-a060-7f3e818a3a66",
        "part": "whole"
       },
       "id": "90565277-cd9d-4473-8809-025904e4cd9c"
      }
     }
    },
    "ffe93c20-b80b-412f-b5c6-dc82b9302f5c": {
     "id": "ffe93c20-b80b-412f-b5c6-dc82b9302f5c",
     "prev": null,
     "regions": {
      "0c92b92a-b59e-40eb-b648-df8ba9fd5b3d": {
       "attrs": {
        "height": 0.8,
        "width": 0.8,
        "x": 0.1,
        "y": 0.1
       },
       "content": {
        "cell": "f4e8d878-6137-4252-898b-dbfa915dec9b",
        "part": "whole"
       },
       "id": "0c92b92a-b59e-40eb-b648-df8ba9fd5b3d"
      }
     }
    }
   },
   "themes": {
    "default": "03b5650f-0d59-4991-a7b0-447a9541a40c",
    "theme": {}
   }
  }
 },
 "nbformat": 4,
 "nbformat_minor": 1
}
