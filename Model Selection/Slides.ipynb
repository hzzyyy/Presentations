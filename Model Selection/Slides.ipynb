{
 "cells": [
  {
   "cell_type": "markdown",
   "metadata": {
    "nbpresent": {
     "id": "f4e8d878-6137-4252-898b-dbfa915dec9b"
    }
   },
   "source": [
    "## <center>Introduction to Model Selection Methods </center>\n",
    "\n",
    "\n",
    "\n",
    "\n",
    "<center> Zhangyi Hu </center>\n",
    "<center> Oct. 16, 2016</center>"
   ]
  },
  {
   "cell_type": "markdown",
   "metadata": {
    "collapsed": true,
    "nbpresent": {
     "id": "ef9df2b8-dd9c-49ba-b489-f7c0cef59906"
    }
   },
   "source": [
    "## <center> Contents </center>\n",
    "- Motivation of model selection\n",
    "- Types of model selection criteria\n",
    "    - In sample test error\n",
    "    - Out of sample test error\n",
    "    - Information criterion\n",
    "    - Bayesian criterion"
   ]
  }
 ],
 "metadata": {
  "anaconda-cloud": {},
  "kernelspec": {
   "display_name": "Python [conda env:ml]",
   "language": "python",
   "name": "conda-env-ml-py"
  },
  "language_info": {
   "codemirror_mode": {
    "name": "ipython",
    "version": 3
   },
   "file_extension": ".py",
   "mimetype": "text/x-python",
   "name": "python",
   "nbconvert_exporter": "python",
   "pygments_lexer": "ipython3",
   "version": "3.5.2"
  },
  "nbpresent": {
   "slides": {
    "34cb2a6c-bf3e-41ee-b810-f6e074e4496a": {
     "id": "34cb2a6c-bf3e-41ee-b810-f6e074e4496a",
     "layout": "grid",
     "prev": null,
     "regions": {
      "db32af87-57a6-4be9-aad9-e6979988f282": {
       "attrs": {
        "height": 1,
        "pad": 0.01,
        "treemap:weight": 1,
        "width": 1,
        "x": 0,
        "y": 0
       },
       "content": {
        "cell": "f4e8d878-6137-4252-898b-dbfa915dec9b",
        "part": "source"
       },
       "id": "db32af87-57a6-4be9-aad9-e6979988f282"
      }
     },
     "theme": "03b5650f-0d59-4991-a7b0-447a9541a40c"
    },
    "c06b1b70-5979-4b60-b513-9456a0e4198b": {
     "id": "c06b1b70-5979-4b60-b513-9456a0e4198b",
     "prev": "34cb2a6c-bf3e-41ee-b810-f6e074e4496a",
     "regions": {
      "6a8cb097-54a8-4bbc-bc3c-300d88000157": {
       "attrs": {
        "height": 0.90289779570528,
        "width": 0.7999999999999999,
        "x": 0.09724380916877573,
        "y": 0.02895152056664601
       },
       "content": {
        "cell": "ef9df2b8-dd9c-49ba-b489-f7c0cef59906",
        "part": "source"
       },
       "id": "6a8cb097-54a8-4bbc-bc3c-300d88000157"
      }
     }
    }
   },
   "themes": {
    "default": "03b5650f-0d59-4991-a7b0-447a9541a40c",
    "theme": {}
   }
  }
 },
 "nbformat": 4,
 "nbformat_minor": 1
}
