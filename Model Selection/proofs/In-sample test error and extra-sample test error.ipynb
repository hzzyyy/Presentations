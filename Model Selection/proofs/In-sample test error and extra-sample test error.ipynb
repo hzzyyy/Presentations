{
 "cells": [
  {
   "cell_type": "markdown",
   "metadata": {},
   "source": [
    "## Relation between training error and extra-sample test error for OLS\n",
    "\n",
    "Namely, let's define the pair $(x_0, y_0)$ as one point in the test set. By decomposition of expected test error we have:\n",
    "\n",
    "\\begin{align*}\n",
    "\\mathrm{E}\\left[\\left(y_{0}-\\hat{y}_{0}\\right)^{2}\\right] \n",
    "  =\\mathrm{Var}[y_{0}]+\\mathrm{Bias}\\left(\\hat{y}_{0}\\right)^{2}+\\mathrm{Var}[\\hat{y}_{0}]\n",
    "\\end{align*}\n",
    "\n",
    "Least square estimator is unbiased, so the squared bias is 0. The variance of the test response is the irreducible error $\\sigma_{\\varepsilon}^2$, and it is a constant because OLS model is homoscedastic. \n",
    "\n",
    "All we need to show is that $\\mbox{Var}[\\hat{y}_0]$ is asymptotically equivalent to $\\mbox{Var}[\\hat{y}_i]$, where the pair $(x_i, y_i)$ is one of the $N$ pairs of training set."
   ]
  }
 ],
 "metadata": {
  "anaconda-cloud": {},
  "kernelspec": {
   "display_name": "Python [conda env:slides]",
   "language": "python",
   "name": "conda-env-slides-py"
  },
  "language_info": {
   "codemirror_mode": {
    "name": "ipython",
    "version": 3
   },
   "file_extension": ".py",
   "mimetype": "text/x-python",
   "name": "python",
   "nbconvert_exporter": "python",
   "pygments_lexer": "ipython3",
   "version": "3.5.2"
  }
 },
 "nbformat": 4,
 "nbformat_minor": 1
}
