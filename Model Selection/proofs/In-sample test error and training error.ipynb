{
 "cells": [
  {
   "cell_type": "markdown",
   "metadata": {},
   "source": [
    "## Proof of the relation between training error and in-sample test error with square error loss function"
   ]
  },
  {
   "cell_type": "markdown",
   "metadata": {
    "collapsed": true
   },
   "source": [
    "Define $\\mathbf{y}=[y_1,\\dots,y_N]^T$ as the response of training set, \n",
    "and $\\mathbf{x}=[x_1,\\dots,x_N]^T$ as the feature of the training set.\n",
    "Then $\\overline{\\mathrm{err}}$ the training error defined with square error loss function is\n",
    "\n",
    "$$\\overline{\\mbox{err}}=\\frac{1}{N}\\sum_{i=1}^{N}\\left(y_{i}-\\hat{f}\\left(x_{i}\\right)\\right)^{2}$$\n",
    "\n",
    "Let's further define another independent response with the same feature $\\mathbf{Y}^{0}=[\\mathbf{Y}_{1}^{0},\\dots,\\mathbf{Y}_{N}^{0}]^{T}$. \n",
    "$\\mathbf{Y}^{0}$ and $\\mathbf{y}$ have the same feature $\\mathbf{x}$, they are iid random vectors.\n",
    "\n",
    "The in-sample test error is the expected square loss of in-sample test set, the expectation is taken over $\\mathbf{Y}^{0}$\n",
    "\n",
    "$$\\mbox{Err}_{\\mbox{in}}=\\mathbb{E}_{\\mathbf{Y}^{0}}\\left(Y_{i}^{0}-\\hat{f}\\left(x_{i}\\right)\\right)^{2}$$"
   ]
  },
  {
   "cell_type": "markdown",
   "metadata": {},
   "source": [
    "Let's plugin the definitions:\n",
    "\n",
    "\\begin{align*}\n",
    "\\mathbb{E}_{\\mathbf{y}}\\left[\\mbox{Err}_{\\mbox{in}}\\right]-\\mathbb{E}_{\\mathbf{y}}\\left[\\overline{\\mbox{err}}\\right]\n",
    " & =\\frac{1}{N}\\sum_{i=1}^{N}\\left(\\mathbb{E}_{\\mathbf{y}}\\left[\\mathbb{E}_{\\mathbf{Y}^{o}}\\left(\\mathbf{Y}_{i}^{0}-\\hat{f}\\left(x_{i}\\right)\\right)^{2}-\\left(y_{i}-\\hat{f}\\left(x_{i}\\right)\\right)^{2}\\right]\\right)\\\\\n",
    " & =\\frac{1}{N}\\sum_{i=1}^{N}\\left(\\mathbb{E}_{\\mathbf{y}}\\mathbb{E}_{\\mathbf{Y}^{o}}\\left(\\mathbf{Y}_{i}^{0}-\\hat{f}\\left(x_{i}\\right)\\right)^{2}-\\mathbb{E}_{\\mathbf{y}}\\left(y_{i}-\\hat{f}\\left(x_{i}\\right)\\right)^{2}\\right)\n",
    "\\end{align*}\n",
    "\n"
   ]
  },
  {
   "cell_type": "markdown",
   "metadata": {},
   "source": [
    "Notice that $\\mathbf{Y}^0$ is another realization of $f(\\mathbf{x})+\\varepsilon$, so it is independent of $\\mathbf{y}$, and thus $\\hat{f}(\\mathbf{x})$, which is a function of $\\mathbf{y}$.\n",
    "\n",
    "As a result, we have:\n",
    "\n",
    "\\begin{align*}\n",
    "\\mathbb{E}_{\\mathbf{y}}\\mathbb{E}_{\\mathbf{Y}^{o}}\\left(\\mathbf{Y}_{i}^{0}-\\hat{f}\\left(x_{i}\\right)\\right)^{2} & =\\mathbb{E}_{\\mathbf{y}}\\mathbb{E}_{\\mathbf{Y}^{o}}\\left[\\left(\\mathbf{Y}_{i}^{0}\\right)^{2}-2\\mathbf{Y}_{i}^{0}\\hat{f}\\left(x_{i}\\right)+\\hat{f}\\left(x_{i}\\right)^{2}\\right]\\\\\n",
    " & =\\mathbb{E}_{\\mathbf{Y}^{o}}\\left[\\left(\\mathbf{Y}_{i}^{0}\\right)^{2}\\right]-2\\mathbb{E}_{\\mathbf{y}}\\mathbb{E}_{\\mathbf{Y}^{o}}\\left[\\mathbf{Y}_{i}^{0}\\hat{f}\\left(x_{i}\\right)\\right]+\\mathbb{E}_{\\mathbf{y}}\\left[\\hat{f}\\left(x_{i}\\right)^{2}\\right].\n",
    "\\end{align*}\n",
    "\n"
   ]
  },
  {
   "cell_type": "markdown",
   "metadata": {},
   "source": [
    "At the same time:\n",
    "\n",
    "\\begin{align*}\n",
    "\\mathbb{E}_{\\mathbf{y}}\\left(y_{i}-\\hat{f}\\left(x_{i}\\right)\\right)^{2} & =\\mathbb{E}_{\\mathbf{y}}\\left[y_{i}^{2}-2y_{i}\\hat{f}\\left(x_{i}\\right)+\\hat{f}\\left(x_{i}\\right)^{2}\\right]\\\\\n",
    " & =\\mathbb{E}_{\\mathbf{y}}\\left[y_{i}^{2}\\right]-2\\mathbb{E}_{\\mathbf{y}}\\left[y_{i}\\hat{f}\\left(x_{i}\\right)\\right]+\\mathbb{E}_{\\mathbf{y}}\\left[\\hat{f}\\left(x_{i}\\right)^{2}\\right].\n",
    "\\end{align*}\n",
    "\n",
    "We also know that $y_i$ and $\\mathbf{Y}^0_i$ are iid, so $$\\mathbb{E}_{\\mathbf{Y}^{o}}\\left[\\left(\\mathbf{Y}_{i}^{0}\\right)^{2}\\right]=\\mathbb{E}_{\\mathbf{y}}\\left[y_{i}^{2}\\right].$$\n",
    "\n"
   ]
  },
  {
   "cell_type": "markdown",
   "metadata": {},
   "source": [
    "With all the above relations, and that $\\hat{y}_i=\\hat{f}(x_i)$, we can conclude that:\n",
    "\n",
    "\\begin{align*}\n",
    "\\mathbb{E}_{\\mathbf{y}}\\left[\\mbox{Err}_{\\mbox{in}}-\\overline{\\mbox{err}}\\right] & =\\mathbb{E}_{\\mathbf{y}}\\left[\\mbox{Err}_{\\mbox{in}}\\right]-\\mathbb{E}_{\\mathbf{y}}\\left[\\overline{\\mbox{err}}\\right]\\\\\n",
    " & =\\frac{2}{N}\\sum_{i=1}^{N}\\left(\\mathbb{E}_{\\mathbf{y}}\\left[y_{i}\\hat{f}\\left(x_{i}\\right)-\\mathbb{E}_{\\mathbf{Y}^{o}}\\left[\\mathbf{Y}_{i}^{0}\\hat{f}\\left(x_{i}\\right)\\right]\\right]\\right)\\\\\n",
    " & =\\frac{2}{N}\\sum_{i=1}^{N}\\left(\\mathbb{E}_{\\mathbf{y}}\\left[y_{i}\\hat{y_{i}}-\\mathbb{E}_{\\mathbf{y}}\\left[y_{i}\\right]\\hat{f}\\left(x_{i}\\right)\\right]\\right)\\\\\n",
    " & =\\frac{2}{N}\\sum_{i=1}^{N}\\left(\\mathbb{E}_{\\mathbf{y}}\\left[y_{i}\\hat{y_{i}}\\right]-\\mathbb{E}_{\\mathbf{y}}\\left[y_{i}\\right]\\mathbb{E}_{\\mathbf{y}}\\left[\\hat{y}_{i}\\right]\\right)\\\\\n",
    " & =\\frac{2}{N}\\sum_{i=1}^{N}\\mbox{Cov}\\left(y_{i},\\hat{y}_{i}\\right).\n",
    "\\end{align*}"
   ]
  }
 ],
 "metadata": {
  "anaconda-cloud": {},
  "kernelspec": {
   "display_name": "Python [conda env:slides]",
   "language": "python",
   "name": "conda-env-slides-py"
  },
  "language_info": {
   "codemirror_mode": {
    "name": "ipython",
    "version": 3
   },
   "file_extension": ".py",
   "mimetype": "text/x-python",
   "name": "python",
   "nbconvert_exporter": "python",
   "pygments_lexer": "ipython3",
   "version": "3.5.2"
  }
 },
 "nbformat": 4,
 "nbformat_minor": 1
}
