{
 "cells": [
  {
   "cell_type": "markdown",
   "metadata": {
    "slideshow": {
     "slide_type": "slide"
    }
   },
   "source": [
    "# <center> Post Modern Portfolio Theory </center>\n",
    "### <center> Zhangyi Hu </center>\n",
    "<br>\n"
   ]
  },
  {
   "cell_type": "markdown",
   "metadata": {
    "slideshow": {
     "slide_type": "subslide"
    }
   },
   "source": [
    "# <center> Contents </center>\n",
    "- Overview on Markowitz mean variance model (MPT)\n",
    "- Stochastic Dominance and Post Modern Portfolio Theory\n",
    "- Stochastic programming optimization approach\n",
    "- Python package PyMCEF"
   ]
  },
  {
   "cell_type": "markdown",
   "metadata": {
    "slideshow": {
     "slide_type": "slide"
    }
   },
   "source": [
    "# <center> Modern Portfolio Theory </center>\n"
   ]
  },
  {
   "cell_type": "markdown",
   "metadata": {
    "slideshow": {
     "slide_type": "fragment"
    }
   },
   "source": [
    "- Introduced by Harry Markowitz in 1952, lead to Nobel price in economics\n",
    "- Portfolio selection is based the first two moments of the random return\n",
    "- Also known as mean variance model"
   ]
  },
  {
   "cell_type": "code",
   "execution_count": null,
   "metadata": {
    "collapsed": true,
    "slideshow": {
     "slide_type": "subslide"
    }
   },
   "outputs": [],
   "source": []
  },
  {
   "cell_type": "markdown",
   "metadata": {
    "slideshow": {
     "slide_type": "skip"
    }
   },
   "source": [
    "### Introduction\n",
    "\n",
    "Suppose there are $N$ assets available for investment. \n",
    "A portfolio associated with that is a vector with $N$ elements, summing up to 1. \n",
    "The set of all possible portfolio is defined as:\n",
    "\n",
    "$$\\mathcal{W}=\\left\\{ \\boldsymbol{w}:\\,\\boldsymbol{w}\\in R^{N},\\sum_{n=1}^{N}w_{n}=1\\right\\}$$ \n",
    "\n",
    "Let's denote the realization of the percentage return of all $N$ assets as a vector $\\boldsymbol{Y}$.\n",
    "Then the Reward of this portfolio is defined as its expected return.\n",
    "\n",
    "$$E[X(\\boldsymbol{w})]=E[\\boldsymbol{Y}\\cdot\\boldsymbol{w}]=E[\\sum_{n=1}^{N}w_{n}Y_{n}]$$\n",
    "\n",
    "A portfolio is called efficient, if, with its reward fixed, the risk is minimized, or with its risk fixed, the reward is maximized. \n",
    "The set of all possible efficient portfolios for given $\\boldsymbol{Y}$ is defined as the efficient frontier. \n",
    "$\\boldsymbol{Y}$ can be formulated from a distribution, (e.g. by providing the means and covariance matrix). The distribution can be provided by various methods, with certain assumptions made."
   ]
  }
 ],
 "metadata": {
  "anaconda-cloud": {},
  "celltoolbar": "Slideshow",
  "kernelspec": {
   "display_name": "Python 3",
   "language": "python",
   "name": "python3"
  },
  "language_info": {
   "codemirror_mode": {
    "name": "ipython",
    "version": 3
   },
   "file_extension": ".py",
   "mimetype": "text/x-python",
   "name": "python",
   "nbconvert_exporter": "python",
   "pygments_lexer": "ipython3",
   "version": "3.5.2"
  }
 },
 "nbformat": 4,
 "nbformat_minor": 2
}
